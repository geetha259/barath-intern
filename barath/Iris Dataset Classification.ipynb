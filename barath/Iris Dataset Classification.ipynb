{
  "nbformat": 4,
  "nbformat_minor": 0,
  "metadata": {
    "colab": {
      "provenance": []
    },
    "kernelspec": {
      "name": "python3",
      "display_name": "Python 3"
    },
    "language_info": {
      "name": "python"
    }
  },
  "cells": [
    {
      "cell_type": "code",
      "execution_count": 1,
      "metadata": {
        "id": "YZd84qq74RI9"
      },
      "outputs": [],
      "source": [
        "# Importing libraries\n",
        "import pandas as pd\n",
        "import numpy as np\n",
        "from sklearn.datasets import load_iris\n",
        "from sklearn.model_selection import train_test_split as tts\n",
        "from sklearn.preprocessing import StandardScaler as SS\n",
        "from sklearn.linear_model import LogisticRegression\n",
        "from sklearn.metrics import classification_report as clsr, accuracy_score as accs\n",
        "import tensorflow as tf\n",
        "from tensorflow.keras.models import Sequential\n",
        "from tensorflow.keras.layers import Dense\n"
      ]
    },
    {
      "cell_type": "code",
      "source": [
        "# Load the Iris dataset\n",
        "iris = load_iris()\n",
        "X = iris.data  # Features: Sepal, petal lengths & widths\n",
        "y = iris.target  # Labels: Setosa, Versicolour, Virginica\n",
        "\n",
        "# Quick look at the features and labels\n",
        "print(\"Features:\\n\", X[:5])\n",
        "print(\"\\nLabels:\\n\", y[:5])\n"
      ],
      "metadata": {
        "colab": {
          "base_uri": "https://localhost:8080/"
        },
        "id": "2lnHldLS4ZZg",
        "outputId": "853da66d-4ac7-40f6-e4ab-c5cf14f52c47"
      },
      "execution_count": 2,
      "outputs": [
        {
          "output_type": "stream",
          "name": "stdout",
          "text": [
            "Features:\n",
            " [[5.1 3.5 1.4 0.2]\n",
            " [4.9 3.  1.4 0.2]\n",
            " [4.7 3.2 1.3 0.2]\n",
            " [4.6 3.1 1.5 0.2]\n",
            " [5.  3.6 1.4 0.2]]\n",
            "\n",
            "Labels:\n",
            " [0 0 0 0 0]\n"
          ]
        }
      ]
    },
    {
      "cell_type": "code",
      "source": [
        "# Split dataset into train and test\n",
        "X_train, X_test, y_train, y_test = tts(X, y, test_size=0.2, random_state=42)\n",
        "print(f\"Training set size: {len(X_train)}\\nTesting set size: {len(X_test)}\")\n"
      ],
      "metadata": {
        "colab": {
          "base_uri": "https://localhost:8080/"
        },
        "id": "hoC8qfZU4bkk",
        "outputId": "3123e9f2-9834-4883-fc94-70f2af31495a"
      },
      "execution_count": 3,
      "outputs": [
        {
          "output_type": "stream",
          "name": "stdout",
          "text": [
            "Training set size: 120\n",
            "Testing set size: 30\n"
          ]
        }
      ]
    },
    {
      "cell_type": "code",
      "source": [
        "# Feature scaling\n",
        "sc = SS()\n",
        "X_train = sc.fit_transform(X_train)  # Fit to train, transform train\n",
        "X_test = sc.transform(X_test)        # Only transform test (important!)\n"
      ],
      "metadata": {
        "id": "KRW-axfl4f9A"
      },
      "execution_count": 4,
      "outputs": []
    },
    {
      "cell_type": "code",
      "source": [
        "# Logistic Regression Model\n",
        "lr = LogisticRegression(max_iter=250)  # Cranked iterations to 250, just in case\n",
        "lr.fit(X_train, y_train)               # Training... easy peasy\n",
        "y_pred_logreg = lr.predict(X_test)     # Predictions\n",
        "\n",
        "# Evaluate Logistic Regression\n",
        "print(\"LogReg Accuracy:\", accs(y_test, y_pred_logreg))\n",
        "print(\"LogReg Classification Report:\\n\", clsr(y_test, y_pred_logreg))\n",
        "print(\"Confusion Matrix (LogReg):\\n\", pd.crosstab(y_test, y_pred_logreg))  # Sneaky Pandas!\n"
      ],
      "metadata": {
        "colab": {
          "base_uri": "https://localhost:8080/"
        },
        "id": "c_OU9QF_4jwp",
        "outputId": "b7409e08-1341-4c91-86ec-283403437d7e"
      },
      "execution_count": 5,
      "outputs": [
        {
          "output_type": "stream",
          "name": "stdout",
          "text": [
            "LogReg Accuracy: 1.0\n",
            "LogReg Classification Report:\n",
            "               precision    recall  f1-score   support\n",
            "\n",
            "           0       1.00      1.00      1.00        10\n",
            "           1       1.00      1.00      1.00         9\n",
            "           2       1.00      1.00      1.00        11\n",
            "\n",
            "    accuracy                           1.00        30\n",
            "   macro avg       1.00      1.00      1.00        30\n",
            "weighted avg       1.00      1.00      1.00        30\n",
            "\n",
            "Confusion Matrix (LogReg):\n",
            " col_0   0  1   2\n",
            "row_0           \n",
            "0      10  0   0\n",
            "1       0  9   0\n",
            "2       0  0  11\n"
          ]
        }
      ]
    },
    {
      "cell_type": "code",
      "source": [
        "# Neural Network with TensorFlow\n",
        "nn_model = Sequential()\n",
        "nn_model.add(Dense(units=8, activation='relu', input_dim=4))  # 4 features in, 8 neurons\n",
        "nn_model.add(Dense(units=8, activation='relu'))               # Another layer for fun\n",
        "nn_model.add(Dense(units=3, activation='softmax'))            # Output layer for 3 classes\n",
        "\n",
        "# Compile the NN model\n",
        "nn_model.compile(optimizer='adam', loss='sparse_categorical_crossentropy', metrics=['accuracy'])\n",
        "\n",
        "# Train the NN model\n",
        "nn_model.fit(X_train, y_train, epochs=30, verbose=1, validation_split=0.2)  # Split 20% for validation\n"
      ],
      "metadata": {
        "colab": {
          "base_uri": "https://localhost:8080/"
        },
        "id": "ve13CEHS4l1S",
        "outputId": "2674b679-6e39-4aa5-8133-84da8cdddaae"
      },
      "execution_count": 6,
      "outputs": [
        {
          "output_type": "stream",
          "name": "stderr",
          "text": [
            "/usr/local/lib/python3.10/dist-packages/keras/src/layers/core/dense.py:87: UserWarning: Do not pass an `input_shape`/`input_dim` argument to a layer. When using Sequential models, prefer using an `Input(shape)` object as the first layer in the model instead.\n",
            "  super().__init__(activity_regularizer=activity_regularizer, **kwargs)\n"
          ]
        },
        {
          "output_type": "stream",
          "name": "stdout",
          "text": [
            "Epoch 1/30\n",
            "\u001b[1m3/3\u001b[0m \u001b[32m━━━━━━━━━━━━━━━━━━━━\u001b[0m\u001b[37m\u001b[0m \u001b[1m5s\u001b[0m 257ms/step - accuracy: 0.1484 - loss: 1.4485 - val_accuracy: 0.2083 - val_loss: 1.4295\n",
            "Epoch 2/30\n",
            "\u001b[1m3/3\u001b[0m \u001b[32m━━━━━━━━━━━━━━━━━━━━\u001b[0m\u001b[37m\u001b[0m \u001b[1m0s\u001b[0m 52ms/step - accuracy: 0.1055 - loss: 1.4433 - val_accuracy: 0.2083 - val_loss: 1.4071\n",
            "Epoch 3/30\n",
            "\u001b[1m3/3\u001b[0m \u001b[32m━━━━━━━━━━━━━━━━━━━━\u001b[0m\u001b[37m\u001b[0m \u001b[1m0s\u001b[0m 66ms/step - accuracy: 0.1328 - loss: 1.4017 - val_accuracy: 0.2083 - val_loss: 1.3859\n",
            "Epoch 4/30\n",
            "\u001b[1m3/3\u001b[0m \u001b[32m━━━━━━━━━━━━━━━━━━━━\u001b[0m\u001b[37m\u001b[0m \u001b[1m0s\u001b[0m 45ms/step - accuracy: 0.1055 - loss: 1.3743 - val_accuracy: 0.2083 - val_loss: 1.3652\n",
            "Epoch 5/30\n",
            "\u001b[1m3/3\u001b[0m \u001b[32m━━━━━━━━━━━━━━━━━━━━\u001b[0m\u001b[37m\u001b[0m \u001b[1m0s\u001b[0m 55ms/step - accuracy: 0.1523 - loss: 1.3371 - val_accuracy: 0.2083 - val_loss: 1.3455\n",
            "Epoch 6/30\n",
            "\u001b[1m3/3\u001b[0m \u001b[32m━━━━━━━━━━━━━━━━━━━━\u001b[0m\u001b[37m\u001b[0m \u001b[1m0s\u001b[0m 70ms/step - accuracy: 0.1250 - loss: 1.3281 - val_accuracy: 0.2083 - val_loss: 1.3264\n",
            "Epoch 7/30\n",
            "\u001b[1m3/3\u001b[0m \u001b[32m━━━━━━━━━━━━━━━━━━━━\u001b[0m\u001b[37m\u001b[0m \u001b[1m0s\u001b[0m 28ms/step - accuracy: 0.1367 - loss: 1.3133 - val_accuracy: 0.2083 - val_loss: 1.3083\n",
            "Epoch 8/30\n",
            "\u001b[1m3/3\u001b[0m \u001b[32m━━━━━━━━━━━━━━━━━━━━\u001b[0m\u001b[37m\u001b[0m \u001b[1m0s\u001b[0m 65ms/step - accuracy: 0.1406 - loss: 1.2690 - val_accuracy: 0.2083 - val_loss: 1.2912\n",
            "Epoch 9/30\n",
            "\u001b[1m3/3\u001b[0m \u001b[32m━━━━━━━━━━━━━━━━━━━━\u001b[0m\u001b[37m\u001b[0m \u001b[1m0s\u001b[0m 21ms/step - accuracy: 0.1341 - loss: 1.2830 - val_accuracy: 0.2083 - val_loss: 1.2746\n",
            "Epoch 10/30\n",
            "\u001b[1m3/3\u001b[0m \u001b[32m━━━━━━━━━━━━━━━━━━━━\u001b[0m\u001b[37m\u001b[0m \u001b[1m0s\u001b[0m 19ms/step - accuracy: 0.1497 - loss: 1.2531 - val_accuracy: 0.2083 - val_loss: 1.2590\n",
            "Epoch 11/30\n",
            "\u001b[1m3/3\u001b[0m \u001b[32m━━━━━━━━━━━━━━━━━━━━\u001b[0m\u001b[37m\u001b[0m \u001b[1m0s\u001b[0m 64ms/step - accuracy: 0.1341 - loss: 1.2398 - val_accuracy: 0.1667 - val_loss: 1.2438\n",
            "Epoch 12/30\n",
            "\u001b[1m3/3\u001b[0m \u001b[32m━━━━━━━━━━━━━━━━━━━━\u001b[0m\u001b[37m\u001b[0m \u001b[1m0s\u001b[0m 80ms/step - accuracy: 0.1380 - loss: 1.2049 - val_accuracy: 0.1667 - val_loss: 1.2287\n",
            "Epoch 13/30\n",
            "\u001b[1m3/3\u001b[0m \u001b[32m━━━━━━━━━━━━━━━━━━━━\u001b[0m\u001b[37m\u001b[0m \u001b[1m0s\u001b[0m 50ms/step - accuracy: 0.1276 - loss: 1.2110 - val_accuracy: 0.2083 - val_loss: 1.2139\n",
            "Epoch 14/30\n",
            "\u001b[1m3/3\u001b[0m \u001b[32m━━━━━━━━━━━━━━━━━━━━\u001b[0m\u001b[37m\u001b[0m \u001b[1m0s\u001b[0m 37ms/step - accuracy: 0.1471 - loss: 1.1983 - val_accuracy: 0.2083 - val_loss: 1.1996\n",
            "Epoch 15/30\n",
            "\u001b[1m3/3\u001b[0m \u001b[32m━━━━━━━━━━━━━━━━━━━━\u001b[0m\u001b[37m\u001b[0m \u001b[1m0s\u001b[0m 44ms/step - accuracy: 0.1745 - loss: 1.1862 - val_accuracy: 0.2083 - val_loss: 1.1859\n",
            "Epoch 16/30\n",
            "\u001b[1m3/3\u001b[0m \u001b[32m━━━━━━━━━━━━━━━━━━━━\u001b[0m\u001b[37m\u001b[0m \u001b[1m0s\u001b[0m 55ms/step - accuracy: 0.2174 - loss: 1.1464 - val_accuracy: 0.2083 - val_loss: 1.1727\n",
            "Epoch 17/30\n",
            "\u001b[1m3/3\u001b[0m \u001b[32m━━━━━━━━━━━━━━━━━━━━\u001b[0m\u001b[37m\u001b[0m \u001b[1m1s\u001b[0m 77ms/step - accuracy: 0.1706 - loss: 1.1564 - val_accuracy: 0.2083 - val_loss: 1.1596\n",
            "Epoch 18/30\n",
            "\u001b[1m3/3\u001b[0m \u001b[32m━━━━━━━━━━━━━━━━━━━━\u001b[0m\u001b[37m\u001b[0m \u001b[1m0s\u001b[0m 59ms/step - accuracy: 0.1628 - loss: 1.1484 - val_accuracy: 0.2083 - val_loss: 1.1470\n",
            "Epoch 19/30\n",
            "\u001b[1m3/3\u001b[0m \u001b[32m━━━━━━━━━━━━━━━━━━━━\u001b[0m\u001b[37m\u001b[0m \u001b[1m0s\u001b[0m 52ms/step - accuracy: 0.1784 - loss: 1.1257 - val_accuracy: 0.2083 - val_loss: 1.1346\n",
            "Epoch 20/30\n",
            "\u001b[1m3/3\u001b[0m \u001b[32m━━━━━━━━━━━━━━━━━━━━\u001b[0m\u001b[37m\u001b[0m \u001b[1m0s\u001b[0m 53ms/step - accuracy: 0.1914 - loss: 1.1099 - val_accuracy: 0.2083 - val_loss: 1.1225\n",
            "Epoch 21/30\n",
            "\u001b[1m3/3\u001b[0m \u001b[32m━━━━━━━━━━━━━━━━━━━━\u001b[0m\u001b[37m\u001b[0m \u001b[1m0s\u001b[0m 50ms/step - accuracy: 0.1693 - loss: 1.1084 - val_accuracy: 0.2083 - val_loss: 1.1115\n",
            "Epoch 22/30\n",
            "\u001b[1m3/3\u001b[0m \u001b[32m━━━━━━━━━━━━━━━━━━━━\u001b[0m\u001b[37m\u001b[0m \u001b[1m0s\u001b[0m 76ms/step - accuracy: 0.2188 - loss: 1.0781 - val_accuracy: 0.2083 - val_loss: 1.1004\n",
            "Epoch 23/30\n",
            "\u001b[1m3/3\u001b[0m \u001b[32m━━━━━━━━━━━━━━━━━━━━\u001b[0m\u001b[37m\u001b[0m \u001b[1m0s\u001b[0m 75ms/step - accuracy: 0.2578 - loss: 1.0609 - val_accuracy: 0.2083 - val_loss: 1.0899\n",
            "Epoch 24/30\n",
            "\u001b[1m3/3\u001b[0m \u001b[32m━━━━━━━━━━━━━━━━━━━━\u001b[0m\u001b[37m\u001b[0m \u001b[1m0s\u001b[0m 61ms/step - accuracy: 0.2630 - loss: 1.0639 - val_accuracy: 0.2083 - val_loss: 1.0793\n",
            "Epoch 25/30\n",
            "\u001b[1m3/3\u001b[0m \u001b[32m━━━━━━━━━━━━━━━━━━━━\u001b[0m\u001b[37m\u001b[0m \u001b[1m0s\u001b[0m 58ms/step - accuracy: 0.2734 - loss: 1.0713 - val_accuracy: 0.2083 - val_loss: 1.0689\n",
            "Epoch 26/30\n",
            "\u001b[1m3/3\u001b[0m \u001b[32m━━━━━━━━━━━━━━━━━━━━\u001b[0m\u001b[37m\u001b[0m \u001b[1m0s\u001b[0m 43ms/step - accuracy: 0.3568 - loss: 1.0532 - val_accuracy: 0.2917 - val_loss: 1.0588\n",
            "Epoch 27/30\n",
            "\u001b[1m3/3\u001b[0m \u001b[32m━━━━━━━━━━━━━━━━━━━━\u001b[0m\u001b[37m\u001b[0m \u001b[1m0s\u001b[0m 48ms/step - accuracy: 0.3802 - loss: 1.0294 - val_accuracy: 0.3333 - val_loss: 1.0484\n",
            "Epoch 28/30\n",
            "\u001b[1m3/3\u001b[0m \u001b[32m━━━━━━━━━━━━━━━━━━━━\u001b[0m\u001b[37m\u001b[0m \u001b[1m0s\u001b[0m 69ms/step - accuracy: 0.4336 - loss: 1.0212 - val_accuracy: 0.3333 - val_loss: 1.0383\n",
            "Epoch 29/30\n",
            "\u001b[1m3/3\u001b[0m \u001b[32m━━━━━━━━━━━━━━━━━━━━\u001b[0m\u001b[37m\u001b[0m \u001b[1m0s\u001b[0m 45ms/step - accuracy: 0.4987 - loss: 0.9885 - val_accuracy: 0.3333 - val_loss: 1.0284\n",
            "Epoch 30/30\n",
            "\u001b[1m3/3\u001b[0m \u001b[32m━━━━━━━━━━━━━━━━━━━━\u001b[0m\u001b[37m\u001b[0m \u001b[1m0s\u001b[0m 53ms/step - accuracy: 0.4388 - loss: 1.0237 - val_accuracy: 0.3333 - val_loss: 1.0188\n"
          ]
        },
        {
          "output_type": "execute_result",
          "data": {
            "text/plain": [
              "<keras.src.callbacks.history.History at 0x7e5b8afc37c0>"
            ]
          },
          "metadata": {},
          "execution_count": 6
        }
      ]
    },
    {
      "cell_type": "code",
      "source": [
        "# Evaluate NN\n",
        "nn_loss, nn_acc = nn_model.evaluate(X_test, y_test, verbose=0)  # Turn off verbose, cleaner output\n",
        "print(\"Neural Network Accuracy:\", nn_acc)\n",
        "\n",
        "# Predict with the NN model\n",
        "nn_preds = nn_model.predict(X_test)\n",
        "nn_preds_classes = np.argmax(nn_preds, axis=1)  # Converting probabilities to class labels\n",
        "\n",
        "# Evaluate NN predictions\n",
        "print(\"Neural Network Classification Report:\\n\", clsr(y_test, nn_preds_classes))\n",
        "print(\"Confusion Matrix (NN):\\n\", pd.crosstab(y_test, nn_preds_classes))  # More Pandas tricks\n"
      ],
      "metadata": {
        "colab": {
          "base_uri": "https://localhost:8080/"
        },
        "id": "BLwGvc9E4oBR",
        "outputId": "b36b67d3-8b5e-492d-8044-bbd324a46a98"
      },
      "execution_count": 7,
      "outputs": [
        {
          "output_type": "stream",
          "name": "stdout",
          "text": [
            "Neural Network Accuracy: 0.36666667461395264\n",
            "\u001b[1m1/1\u001b[0m \u001b[32m━━━━━━━━━━━━━━━━━━━━\u001b[0m\u001b[37m\u001b[0m \u001b[1m0s\u001b[0m 89ms/step\n",
            "Neural Network Classification Report:\n",
            "               precision    recall  f1-score   support\n",
            "\n",
            "           0       0.29      0.60      0.39        10\n",
            "           1       0.62      0.56      0.59         9\n",
            "           2       0.00      0.00      0.00        11\n",
            "\n",
            "    accuracy                           0.37        30\n",
            "   macro avg       0.30      0.39      0.33        30\n",
            "weighted avg       0.28      0.37      0.31        30\n",
            "\n",
            "Confusion Matrix (NN):\n",
            " col_0   0  1  2\n",
            "row_0          \n",
            "0       6  3  1\n",
            "1       4  5  0\n",
            "2      11  0  0\n"
          ]
        }
      ]
    },
    {
      "cell_type": "code",
      "source": [],
      "metadata": {
        "id": "SH4oU_Y-4qDl"
      },
      "execution_count": null,
      "outputs": []
    }
  ]
}